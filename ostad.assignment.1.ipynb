{
  "nbformat": 4,
  "nbformat_minor": 0,
  "metadata": {
    "colab": {
      "provenance": [],
      "authorship_tag": "ABX9TyMVjjeIJzVAR6QFXN+R7NNT",
      "include_colab_link": true
    },
    "kernelspec": {
      "name": "python3",
      "display_name": "Python 3"
    },
    "language_info": {
      "name": "python"
    }
  },
  "cells": [
    {
      "cell_type": "markdown",
      "metadata": {
        "id": "view-in-github",
        "colab_type": "text"
      },
      "source": [
        "<a href=\"https://colab.research.google.com/github/Aisobi/Aisobi/blob/main/ostad.assignment.1.ipynb\" target=\"_parent\"><img src=\"https://colab.research.google.com/assets/colab-badge.svg\" alt=\"Open In Colab\"/></a>"
      ]
    },
    {
      "cell_type": "code",
      "execution_count": null,
      "metadata": {
        "id": "4V172zFim-br"
      },
      "outputs": [],
      "source": [
        "# Problem 1: Write a program that takes a number and checks if it is even or odd\n",
        "\n",
        "\n",
        "num = int(input(\"Enter a number: \"))\n",
        "\n",
        "if num % 2 == 0:\n",
        "    print(f\"{num} is Even\")\n",
        "else:\n",
        "    print(f\"{num} is Odd\")\n",
        "\n",
        "\n",
        "\n",
        "\n",
        "# Problem 2: Write a program that takes two numbers and an operator (+, -, *, /) and performs the calculation\n",
        "\n",
        "\n",
        "num1 = float(input(\"Enter first number: \"))\n",
        "num2 = float(input(\"Enter second number: \"))\n",
        "operator = input(\"Enter operator (+, -, *, /): \")\n",
        "\n",
        "\n",
        "if operator == '+':\n",
        "    print(\"Result:\", num1 + num2)\n",
        "elif operator == '-':\n",
        "    print(\"Result:\", num1 - num2)\n",
        "elif operator == '*':\n",
        "    print(\"Result:\", num1 * num2)\n",
        "elif operator == '/':\n",
        "    if num2 != 0:\n",
        "        print(\"Result:\", num1 / num2)\n",
        "    else:\n",
        "        print(\"Error: Division by zero is not allowed!\")\n",
        "else:\n",
        "    print(\"Invalid operator\")\n",
        "\n",
        "\n",
        "\n",
        "\n",
        "# Problem 3: Sum of Even Numbers from 1 to 100\n",
        "total = 0\n",
        "\n",
        "for i in range(2, 101, 2):                    # Start from 2  to 100, step by 2\n",
        "    total += i\n",
        "\n",
        "print(\"Sum of even numbers between 1 and 100 is:\", total)"
      ]
    }
  ]
}